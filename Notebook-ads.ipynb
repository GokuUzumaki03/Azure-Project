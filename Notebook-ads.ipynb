{
    "metadata": {
        "kernelspec": {
            "name": "SQL",
            "display_name": "SQL",
            "language": "sql"
        },
        "language_info": {
            "name": "sql",
            "version": ""
        }
    },
    "nbformat_minor": 2,
    "nbformat": 4,
    "cells": [
        {
            "cell_type": "markdown",
            "source": [
                "# Game Sales"
            ],
            "metadata": {
                "azdata_cell_guid": "750cb91e-96aa-4aae-b289-19a6bf39a5ed"
            },
            "attachments": {}
        },
        {
            "cell_type": "code",
            "source": [
                "SELECT  TOP 10 YearOfRelease, ROUND(SUM(global_sales), 1) AS TotalGlobalSales\r\n",
                "FROM GameSales.dbo.VideoGamesSales\r\n",
                "WHERE Global_sales IS NOT NULL\r\n",
                "GROUP BY YearOfRelease\r\n",
                "Order By SUM(Global_sales) DESC;"
            ],
            "metadata": {
                "azdata_cell_guid": "0a32182f-2f0d-4546-ac38-8cb2a0c41e06",
                "language": "sql",
                "tags": []
            },
            "outputs": [
                {
                    "output_type": "display_data",
                    "data": {
                        "text/html": "(10 rows affected)"
                    },
                    "metadata": {}
                },
                {
                    "output_type": "display_data",
                    "data": {
                        "text/html": "Total execution time: 00:00:00.148"
                    },
                    "metadata": {}
                },
                {
                    "output_type": "execute_result",
                    "metadata": {
                        "azdata_chartOptions": {
                            "type": "bar",
                            "dataDirection": "horizontal",
                            "columnsAsLabels": true,
                            "labelFirstColumn": true,
                            "legendPosition": "top",
                            "yAxisLabel": "Global Sales",
                            "xAxisLabel": "Year of Release"
                        }
                    },
                    "execution_count": 38,
                    "data": {
                        "application/vnd.dataresource+json": {
                            "schema": {
                                "fields": [
                                    {
                                        "name": "YearOfRelease"
                                    },
                                    {
                                        "name": "TotalGlobalSales"
                                    }
                                ]
                            },
                            "data": [
                                {
                                    "YearOfRelease": "2006",
                                    "TotalGlobalSales": "189.2"
                                },
                                {
                                    "YearOfRelease": "2009",
                                    "TotalGlobalSales": "140.3"
                                },
                                {
                                    "YearOfRelease": "2008",
                                    "TotalGlobalSales": "123.2"
                                },
                                {
                                    "YearOfRelease": "2007",
                                    "TotalGlobalSales": "95.6"
                                },
                                {
                                    "YearOfRelease": "1996",
                                    "TotalGlobalSales": "79.7"
                                },
                                {
                                    "YearOfRelease": "2005",
                                    "TotalGlobalSales": "78.5"
                                },
                                {
                                    "YearOfRelease": "2010",
                                    "TotalGlobalSales": "69.6"
                                },
                                {
                                    "YearOfRelease": "1999",
                                    "TotalGlobalSales": "59.4"
                                },
                                {
                                    "YearOfRelease": "2002",
                                    "TotalGlobalSales": "59.4"
                                },
                                {
                                    "YearOfRelease": "2013",
                                    "TotalGlobalSales": "59"
                                }
                            ]
                        },
                        "text/html": [
                            "<table>",
                            "<tr><th>YearOfRelease</th><th>TotalGlobalSales</th></tr>",
                            "<tr><td>2006</td><td>189.2</td></tr>",
                            "<tr><td>2009</td><td>140.3</td></tr>",
                            "<tr><td>2008</td><td>123.2</td></tr>",
                            "<tr><td>2007</td><td>95.6</td></tr>",
                            "<tr><td>1996</td><td>79.7</td></tr>",
                            "<tr><td>2005</td><td>78.5</td></tr>",
                            "<tr><td>2010</td><td>69.6</td></tr>",
                            "<tr><td>1999</td><td>59.4</td></tr>",
                            "<tr><td>2002</td><td>59.4</td></tr>",
                            "<tr><td>2013</td><td>59</td></tr>",
                            "</table>"
                        ]
                    }
                }
            ],
            "execution_count": 38
        }
    ]
}