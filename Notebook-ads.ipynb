{
    "metadata": {
        "kernelspec": {
            "name": "SQL",
            "display_name": "SQL",
            "language": "sql"
        },
        "language_info": {
            "name": "sql",
            "version": ""
        }
    },
    "nbformat_minor": 2,
    "nbformat": 4,
    "cells": [
        {
            "cell_type": "markdown",
            "source": [
                "# Game Sales"
            ],
            "metadata": {
                "azdata_cell_guid": "750cb91e-96aa-4aae-b289-19a6bf39a5ed"
            },
            "attachments": {}
        },
        {
            "cell_type": "markdown",
            "source": [
                "Bar Chart displaying the top 10 selling years."
            ],
            "metadata": {
                "azdata_cell_guid": "bfbc3467-44da-4ce2-b77e-fde81e75e16b"
            },
            "attachments": {}
        },
        {
            "cell_type": "code",
            "source": [
                "SELECT  TOP 10 YearOfRelease, ROUND(SUM(global_sales), 1) AS TotalGlobalSales\r\n",
                "FROM GameSales.dbo.VideoGamesSales\r\n",
                "WHERE Global_sales IS NOT NULL\r\n",
                "GROUP BY YearOfRelease\r\n",
                "Order By SUM(Global_sales) DESC;"
            ],
            "metadata": {
                "azdata_cell_guid": "0a32182f-2f0d-4546-ac38-8cb2a0c41e06",
                "language": "sql",
                "tags": []
            },
            "outputs": [
                {
                    "output_type": "display_data",
                    "data": {
                        "text/html": "(10 rows affected)"
                    },
                    "metadata": {}
                },
                {
                    "output_type": "display_data",
                    "data": {
                        "text/html": "Total execution time: 00:00:00.148"
                    },
                    "metadata": {}
                },
                {
                    "output_type": "execute_result",
                    "execution_count": 38,
                    "data": {
                        "application/vnd.dataresource+json": {
                            "schema": {
                                "fields": [
                                    {
                                        "name": "YearOfRelease"
                                    },
                                    {
                                        "name": "TotalGlobalSales"
                                    }
                                ]
                            },
                            "data": [
                                {
                                    "YearOfRelease": "2006",
                                    "TotalGlobalSales": "189.2"
                                },
                                {
                                    "YearOfRelease": "2009",
                                    "TotalGlobalSales": "140.3"
                                },
                                {
                                    "YearOfRelease": "2008",
                                    "TotalGlobalSales": "123.2"
                                },
                                {
                                    "YearOfRelease": "2007",
                                    "TotalGlobalSales": "95.6"
                                },
                                {
                                    "YearOfRelease": "1996",
                                    "TotalGlobalSales": "79.7"
                                },
                                {
                                    "YearOfRelease": "2005",
                                    "TotalGlobalSales": "78.5"
                                },
                                {
                                    "YearOfRelease": "2010",
                                    "TotalGlobalSales": "69.6"
                                },
                                {
                                    "YearOfRelease": "1999",
                                    "TotalGlobalSales": "59.4"
                                },
                                {
                                    "YearOfRelease": "2002",
                                    "TotalGlobalSales": "59.4"
                                },
                                {
                                    "YearOfRelease": "2013",
                                    "TotalGlobalSales": "59"
                                }
                            ]
                        },
                        "text/html": "<table><tr><th>YearOfRelease</th><th>TotalGlobalSales</th></tr><tr><td>2006</td><td>189.2</td></tr><tr><td>2009</td><td>140.3</td></tr><tr><td>2008</td><td>123.2</td></tr><tr><td>2007</td><td>95.6</td></tr><tr><td>1996</td><td>79.7</td></tr><tr><td>2005</td><td>78.5</td></tr><tr><td>2010</td><td>69.6</td></tr><tr><td>1999</td><td>59.4</td></tr><tr><td>2002</td><td>59.4</td></tr><tr><td>2013</td><td>59</td></tr></table>"
                    },
                    "metadata": {
                        "azdata_chartOptions": {
                            "type": "bar",
                            "dataDirection": "horizontal",
                            "columnsAsLabels": true,
                            "labelFirstColumn": true,
                            "legendPosition": "top",
                            "yAxisLabel": "Global Sales",
                            "xAxisLabel": "Year of Release"
                        }
                    }
                }
            ],
            "execution_count": 38
        },
        {
            "cell_type": "code",
            "source": [
                "WITH YearlyTopGames AS (\r\n",
                "    SELECT \r\n",
                "        VgName, Global_Sales, YearOfRelease,\r\n",
                "        ROW_NUMBER() OVER (PARTITION BY YearOfRelease ORDER BY Global_Sales DESC) AS RowNum\r\n",
                "    FROM \r\n",
                "        GameSales.dbo.VideoGamesSales\r\n",
                "    WHERE \r\n",
                "        Global_Sales IS NOT NULL \r\n",
                "        AND YearOfRelease IS NOT NULL\r\n",
                ")\r\n",
                ", TopGames AS (\r\n",
                "    SELECT VgName, Global_Sales, YearOfRelease\r\n",
                "    FROM YearlyTopGames\r\n",
                "    WHERE RowNum = 1  -- Get only the top-selling game for each year\r\n",
                ")\r\n",
                "SELECT \r\n",
                "  VgName, Global_Sales, YearOfRelease\r\n",
                "FROM TopGames\r\n",
                "ORDER BY Global_Sales DESC\r\n",
                "OFFSET 0 ROWS FETCH NEXT 10 ROWS ONLY;  -- Fetch the top 10 years with the highest global sales"
            ],
            "metadata": {
                "language": "sql",
                "azdata_cell_guid": "f72d3589-d527-4041-a6e7-d5946a76f23f"
            },
            "outputs": [
                {
                    "output_type": "display_data",
                    "data": {
                        "text/html": "(10 rows affected)"
                    },
                    "metadata": {}
                },
                {
                    "output_type": "display_data",
                    "data": {
                        "text/html": "Total execution time: 00:00:00.212"
                    },
                    "metadata": {}
                },
                {
                    "output_type": "execute_result",
                    "execution_count": 8,
                    "data": {
                        "application/vnd.dataresource+json": {
                            "schema": {
                                "fields": [
                                    {
                                        "name": "VgName"
                                    },
                                    {
                                        "name": "Global_Sales"
                                    },
                                    {
                                        "name": "YearOfRelease"
                                    }
                                ]
                            },
                            "data": [
                                {
                                    "VgName": "Wii Sports",
                                    "Global_Sales": "82.53",
                                    "YearOfRelease": "2006"
                                },
                                {
                                    "VgName": "Super Mario Bros.",
                                    "Global_Sales": "40.24",
                                    "YearOfRelease": "1985"
                                },
                                {
                                    "VgName": "Mario Kart Wii",
                                    "Global_Sales": "35.52",
                                    "YearOfRelease": "2008"
                                },
                                {
                                    "VgName": "Wii Sports Resort",
                                    "Global_Sales": "32.77",
                                    "YearOfRelease": "2009"
                                },
                                {
                                    "VgName": "Pokemon Red/Pokemon Blue",
                                    "Global_Sales": "31.37",
                                    "YearOfRelease": "1996"
                                },
                                {
                                    "VgName": "Tetris",
                                    "Global_Sales": "30.26",
                                    "YearOfRelease": "1989"
                                },
                                {
                                    "VgName": "Duck Hunt",
                                    "Global_Sales": "28.31",
                                    "YearOfRelease": "1984"
                                },
                                {
                                    "VgName": "Nintendogs",
                                    "Global_Sales": "24.67",
                                    "YearOfRelease": "2005"
                                },
                                {
                                    "VgName": "Pokemon Gold/Pokemon Silver",
                                    "Global_Sales": "23.1",
                                    "YearOfRelease": "1999"
                                },
                                {
                                    "VgName": "Wii Fit",
                                    "Global_Sales": "22.7",
                                    "YearOfRelease": "2007"
                                }
                            ]
                        },
                        "text/html": "<table><tr><th>VgName</th><th>Global_Sales</th><th>YearOfRelease</th></tr><tr><td>Wii Sports</td><td>82.53</td><td>2006</td></tr><tr><td>Super Mario Bros.</td><td>40.24</td><td>1985</td></tr><tr><td>Mario Kart Wii</td><td>35.52</td><td>2008</td></tr><tr><td>Wii Sports Resort</td><td>32.77</td><td>2009</td></tr><tr><td>Pokemon Red/Pokemon Blue</td><td>31.37</td><td>1996</td></tr><tr><td>Tetris</td><td>30.26</td><td>1989</td></tr><tr><td>Duck Hunt</td><td>28.31</td><td>1984</td></tr><tr><td>Nintendogs</td><td>24.67</td><td>2005</td></tr><tr><td>Pokemon Gold/Pokemon Silver</td><td>23.1</td><td>1999</td></tr><tr><td>Wii Fit</td><td>22.7</td><td>2007</td></tr></table>"
                    },
                    "metadata": {
                        "azdata_chartOptions": {
                            "type": "bar",
                            "dataDirection": "horizontal",
                            "columnsAsLabels": true,
                            "labelFirstColumn": true,
                            "legendPosition": "top"
                        }
                    }
                }
            ],
            "execution_count": 8
        },
        {
            "cell_type": "code",
            "source": [
                "SELECT CAST(YearOfRelease as VARCHAR(4)) AS ReleaseYear, \r\n",
                "       SUM(NA_Sales) AS North_America_Sales, \r\n",
                "       SUM(EU_Sales) AS EuropeSales, SUM(JP_Sales) AS JapanSales\r\n",
                "FROM GameSales.dbo.VideoGamesSales\r\n",
                "WHERE YearOfRelease IS NOT NULL\r\n",
                "GROUP BY YearOfRelease\r\n",
                "ORDER BY YearOfRelease;\r\n",
                ""
            ],
            "metadata": {
                "azdata_cell_guid": "1e9d5915-8eaf-4318-8ef7-1639780e7108",
                "language": "sql"
            },
            "outputs": [
                {
                    "output_type": "display_data",
                    "data": {
                        "text/html": "(36 rows affected)"
                    },
                    "metadata": {}
                },
                {
                    "output_type": "display_data",
                    "data": {
                        "text/html": "Total execution time: 00:00:00.226"
                    },
                    "metadata": {}
                },
                {
                    "output_type": "execute_result",
                    "metadata": {
                        "azdata_chartOptions": {
                            "type": "bar",
                            "dataDirection": "vertical",
                            "columnsAsLabels": true,
                            "labelFirstColumn": true,
                            "legendPosition": "top"
                        }
                    },
                    "execution_count": 11,
                    "data": {
                        "application/vnd.dataresource+json": {
                            "schema": {
                                "fields": [
                                    {
                                        "name": "ReleaseYear"
                                    },
                                    {
                                        "name": "North_America_Sales"
                                    },
                                    {
                                        "name": "EuropeSales"
                                    },
                                    {
                                        "name": "JapanSales"
                                    }
                                ]
                            },
                            "data": [
                                {
                                    "ReleaseYear": "1981",
                                    "North_America_Sales": "3.9000000000000004",
                                    "EuropeSales": "0.22999999999999998",
                                    "JapanSales": "0"
                                },
                                {
                                    "ReleaseYear": "1982",
                                    "North_America_Sales": "7.28",
                                    "EuropeSales": "0.45",
                                    "JapanSales": "0"
                                },
                                {
                                    "ReleaseYear": "1983",
                                    "North_America_Sales": "0.51",
                                    "EuropeSales": "0.12",
                                    "JapanSales": "1.63"
                                },
                                {
                                    "ReleaseYear": "1984",
                                    "North_America_Sales": "28.97",
                                    "EuropeSales": "1.1099999999999999",
                                    "JapanSales": "1.85"
                                },
                                {
                                    "ReleaseYear": "1985",
                                    "North_America_Sales": "29.259999999999998",
                                    "EuropeSales": "3.81",
                                    "JapanSales": "8.34"
                                },
                                {
                                    "ReleaseYear": "1986",
                                    "North_America_Sales": "1.33",
                                    "EuropeSales": "0.31",
                                    "JapanSales": "3.69"
                                },
                                {
                                    "ReleaseYear": "1987",
                                    "North_America_Sales": "0.14",
                                    "EuropeSales": "0.03",
                                    "JapanSales": "1.98"
                                },
                                {
                                    "ReleaseYear": "1988",
                                    "North_America_Sales": "17.9",
                                    "EuropeSales": "5.3100000000000005",
                                    "JapanSales": "6.35"
                                },
                                {
                                    "ReleaseYear": "1989",
                                    "North_America_Sales": "39.59",
                                    "EuropeSales": "6.37",
                                    "JapanSales": "10.709999999999999"
                                },
                                {
                                    "ReleaseYear": "1990",
                                    "North_America_Sales": "18.509999999999998",
                                    "EuropeSales": "5.109999999999999",
                                    "JapanSales": "6.16"
                                },
                                {
                                    "ReleaseYear": "1991",
                                    "North_America_Sales": "3.03",
                                    "EuropeSales": "0.91",
                                    "JapanSales": "0.26"
                                },
                                {
                                    "ReleaseYear": "1992",
                                    "North_America_Sales": "25.02",
                                    "EuropeSales": "7.7700000000000005",
                                    "JapanSales": "17.92"
                                },
                                {
                                    "ReleaseYear": "1993",
                                    "North_America_Sales": "7.99",
                                    "EuropeSales": "2.7",
                                    "JapanSales": "3.41"
                                },
                                {
                                    "ReleaseYear": "1994",
                                    "North_America_Sales": "11.88",
                                    "EuropeSales": "4.88",
                                    "JapanSales": "6.19"
                                },
                                {
                                    "ReleaseYear": "1995",
                                    "North_America_Sales": "6.32",
                                    "EuropeSales": "3.08",
                                    "JapanSales": "9.93"
                                },
                                {
                                    "ReleaseYear": "1996",
                                    "North_America_Sales": "36.809999999999995",
                                    "EuropeSales": "20.08",
                                    "JapanSales": "20.49"
                                },
                                {
                                    "ReleaseYear": "1997",
                                    "North_America_Sales": "18.21",
                                    "EuropeSales": "11.04",
                                    "JapanSales": "3.5000000000000004"
                                },
                                {
                                    "ReleaseYear": "1998",
                                    "North_America_Sales": "24.08",
                                    "EuropeSales": "12.589999999999998",
                                    "JapanSales": "8.629999999999999"
                                },
                                {
                                    "ReleaseYear": "1999",
                                    "North_America_Sales": "30.53",
                                    "EuropeSales": "13.26",
                                    "JapanSales": "14.110000000000001"
                                },
                                {
                                    "ReleaseYear": "2000",
                                    "North_America_Sales": "12.41",
                                    "EuropeSales": "8.01",
                                    "JapanSales": "5.34"
                                },
                                {
                                    "ReleaseYear": "2001",
                                    "North_America_Sales": "31.66",
                                    "EuropeSales": "15.54",
                                    "JapanSales": "7.36"
                                },
                                {
                                    "ReleaseYear": "2002",
                                    "North_America_Sales": "32.48999999999999",
                                    "EuropeSales": "13.549999999999995",
                                    "JapanSales": "10.959999999999999"
                                },
                                {
                                    "ReleaseYear": "2003",
                                    "North_America_Sales": "18.17",
                                    "EuropeSales": "8.82",
                                    "JapanSales": "4.550000000000001"
                                },
                                {
                                    "ReleaseYear": "2004",
                                    "North_America_Sales": "22.049999999999997",
                                    "EuropeSales": "13.81",
                                    "JapanSales": "12.489999999999998"
                                },
                                {
                                    "ReleaseYear": "2005",
                                    "North_America_Sales": "31.22",
                                    "EuropeSales": "25.849999999999998",
                                    "JapanSales": "14.409999999999998"
                                },
                                {
                                    "ReleaseYear": "2006",
                                    "North_America_Sales": "87.91000000000003",
                                    "EuropeSales": "58.45",
                                    "JapanSales": "24.450000000000006"
                                },
                                {
                                    "ReleaseYear": "2007",
                                    "North_America_Sales": "43.68000000000001",
                                    "EuropeSales": "28.570000000000004",
                                    "JapanSales": "12.629999999999999"
                                },
                                {
                                    "ReleaseYear": "2008",
                                    "North_America_Sales": "61.939999999999976",
                                    "EuropeSales": "34.800000000000004",
                                    "JapanSales": "15.239999999999997"
                                },
                                {
                                    "ReleaseYear": "2009",
                                    "North_America_Sales": "67.18",
                                    "EuropeSales": "42.48",
                                    "JapanSales": "17.919999999999995"
                                },
                                {
                                    "ReleaseYear": "2010",
                                    "North_America_Sales": "28.15",
                                    "EuropeSales": "18.060000000000002",
                                    "JapanSales": "18.4"
                                },
                                {
                                    "ReleaseYear": "2011",
                                    "North_America_Sales": "28.110000000000003",
                                    "EuropeSales": "17.82",
                                    "JapanSales": "6.199999999999999"
                                },
                                {
                                    "ReleaseYear": "2012",
                                    "North_America_Sales": "11.84",
                                    "EuropeSales": "9.65",
                                    "JapanSales": "12.03"
                                },
                                {
                                    "ReleaseYear": "2013",
                                    "North_America_Sales": "25.509999999999998",
                                    "EuropeSales": "18.84",
                                    "JapanSales": "9.88"
                                },
                                {
                                    "ReleaseYear": "2014",
                                    "North_America_Sales": "20.639999999999997",
                                    "EuropeSales": "15.380000000000003",
                                    "JapanSales": "8.67"
                                },
                                {
                                    "ReleaseYear": "2015",
                                    "North_America_Sales": "7.54",
                                    "EuropeSales": "6.5600000000000005",
                                    "JapanSales": "2.09"
                                },
                                {
                                    "ReleaseYear": "2016",
                                    "North_America_Sales": "2.98",
                                    "EuropeSales": "1.45",
                                    "JapanSales": "2.26"
                                }
                            ]
                        },
                        "text/html": [
                            "<table>",
                            "<tr><th>ReleaseYear</th><th>North_America_Sales</th><th>EuropeSales</th><th>JapanSales</th></tr>",
                            "<tr><td>1981</td><td>3.9000000000000004</td><td>0.22999999999999998</td><td>0</td></tr>",
                            "<tr><td>1982</td><td>7.28</td><td>0.45</td><td>0</td></tr>",
                            "<tr><td>1983</td><td>0.51</td><td>0.12</td><td>1.63</td></tr>",
                            "<tr><td>1984</td><td>28.97</td><td>1.1099999999999999</td><td>1.85</td></tr>",
                            "<tr><td>1985</td><td>29.259999999999998</td><td>3.81</td><td>8.34</td></tr>",
                            "<tr><td>1986</td><td>1.33</td><td>0.31</td><td>3.69</td></tr>",
                            "<tr><td>1987</td><td>0.14</td><td>0.03</td><td>1.98</td></tr>",
                            "<tr><td>1988</td><td>17.9</td><td>5.3100000000000005</td><td>6.35</td></tr>",
                            "<tr><td>1989</td><td>39.59</td><td>6.37</td><td>10.709999999999999</td></tr>",
                            "<tr><td>1990</td><td>18.509999999999998</td><td>5.109999999999999</td><td>6.16</td></tr>",
                            "<tr><td>1991</td><td>3.03</td><td>0.91</td><td>0.26</td></tr>",
                            "<tr><td>1992</td><td>25.02</td><td>7.7700000000000005</td><td>17.92</td></tr>",
                            "<tr><td>1993</td><td>7.99</td><td>2.7</td><td>3.41</td></tr>",
                            "<tr><td>1994</td><td>11.88</td><td>4.88</td><td>6.19</td></tr>",
                            "<tr><td>1995</td><td>6.32</td><td>3.08</td><td>9.93</td></tr>",
                            "<tr><td>1996</td><td>36.809999999999995</td><td>20.08</td><td>20.49</td></tr>",
                            "<tr><td>1997</td><td>18.21</td><td>11.04</td><td>3.5000000000000004</td></tr>",
                            "<tr><td>1998</td><td>24.08</td><td>12.589999999999998</td><td>8.629999999999999</td></tr>",
                            "<tr><td>1999</td><td>30.53</td><td>13.26</td><td>14.110000000000001</td></tr>",
                            "<tr><td>2000</td><td>12.41</td><td>8.01</td><td>5.34</td></tr>",
                            "<tr><td>2001</td><td>31.66</td><td>15.54</td><td>7.36</td></tr>",
                            "<tr><td>2002</td><td>32.48999999999999</td><td>13.549999999999995</td><td>10.959999999999999</td></tr>",
                            "<tr><td>2003</td><td>18.17</td><td>8.82</td><td>4.550000000000001</td></tr>",
                            "<tr><td>2004</td><td>22.049999999999997</td><td>13.81</td><td>12.489999999999998</td></tr>",
                            "<tr><td>2005</td><td>31.22</td><td>25.849999999999998</td><td>14.409999999999998</td></tr>",
                            "<tr><td>2006</td><td>87.91000000000003</td><td>58.45</td><td>24.450000000000006</td></tr>",
                            "<tr><td>2007</td><td>43.68000000000001</td><td>28.570000000000004</td><td>12.629999999999999</td></tr>",
                            "<tr><td>2008</td><td>61.939999999999976</td><td>34.800000000000004</td><td>15.239999999999997</td></tr>",
                            "<tr><td>2009</td><td>67.18</td><td>42.48</td><td>17.919999999999995</td></tr>",
                            "<tr><td>2010</td><td>28.15</td><td>18.060000000000002</td><td>18.4</td></tr>",
                            "<tr><td>2011</td><td>28.110000000000003</td><td>17.82</td><td>6.199999999999999</td></tr>",
                            "<tr><td>2012</td><td>11.84</td><td>9.65</td><td>12.03</td></tr>",
                            "<tr><td>2013</td><td>25.509999999999998</td><td>18.84</td><td>9.88</td></tr>",
                            "<tr><td>2014</td><td>20.639999999999997</td><td>15.380000000000003</td><td>8.67</td></tr>",
                            "<tr><td>2015</td><td>7.54</td><td>6.5600000000000005</td><td>2.09</td></tr>",
                            "<tr><td>2016</td><td>2.98</td><td>1.45</td><td>2.26</td></tr>",
                            "</table>"
                        ]
                    }
                }
            ],
            "execution_count": 11
        },
        {
            "cell_type": "code",
            "source": [
                "Sales Per Region, identitfying which region sells the most games per year. We can see that 2006 was the best selling year for all regions. Overall North America sells the most games per year by far."
            ],
            "metadata": {
                "language": "",
                "azdata_cell_guid": "4e303c86-9049-4534-9933-f6ea089d489b"
            },
            "outputs": [],
            "execution_count": null
        },
        {
            "cell_type": "code",
            "source": [
                ""
            ],
            "metadata": {
                "azdata_cell_guid": "549b5bd9-5b88-47a1-950b-d429f274f188",
                "language": "sql"
            },
            "outputs": [],
            "execution_count": null
        },
        {
            "cell_type": "markdown",
            "source": [
                ""
            ],
            "metadata": {
                "azdata_cell_guid": "5bd0f3cf-8235-48be-b7ad-0799b1f83808"
            }
        }
    ]
}